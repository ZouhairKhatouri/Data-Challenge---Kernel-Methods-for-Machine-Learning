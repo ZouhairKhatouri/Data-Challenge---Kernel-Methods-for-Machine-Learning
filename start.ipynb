{
 "cells": [
  {
   "cell_type": "code",
   "execution_count": null,
   "metadata": {},
   "outputs": [],
   "source": [
    "# Imports:\n",
    "\n",
    "from SIFTExtractor import *\n",
    "from HOGExtractor import *\n",
    "from MeanExtractor import *\n",
    "from Kernel import *\n",
    "from SVC import *\n",
    "from OneVsRestClassifier import *\n",
    "\n",
    "import pandas as pd\n",
    "import numpy as np"
   ]
  },
  {
   "cell_type": "code",
   "execution_count": null,
   "metadata": {},
   "outputs": [],
   "source": [
    "# Train set import:\n",
    "\n",
    "Xtr = np.array(pd.read_csv('Xtr.csv',header=None,sep=',',usecols=range(3072)))\n",
    "Ytr = np.array(pd.read_csv('Ytr.csv',sep=',',usecols=[1])).squeeze()\n",
    "\n",
    "assert 10 == len(np.unique(Ytr))"
   ]
  },
  {
   "cell_type": "code",
   "execution_count": null,
   "metadata": {},
   "outputs": [],
   "source": [
    "# Features extraction:\n",
    "\n",
    "se = SIFTExtractor()\n",
    "he = HOGExtractor()\n",
    "mie = MeanIntensityExctractor()\n",
    "\n",
    "sift = se.extract(Xtr.reshape(-1, 32, 32, 3))\n",
    "hog = he.extract(Xtr.reshape(-1, 32, 32, 3))\n",
    "means = mie.extract(Xtr.reshape(-1, 32, 32, 3))"
   ]
  },
  {
   "cell_type": "code",
   "execution_count": null,
   "metadata": {},
   "outputs": [],
   "source": [
    "# Kernel definition:\n",
    "\n",
    "sigma = 15.0\n",
    "def rbf(x, y, sigma=0.1):\n",
    "    return np.exp(-(x-y)**2/(2*sigma**2)).sum()\n",
    "RBF = Kernel(metric=rbf, name=\"rbf\")"
   ]
  },
  {
   "cell_type": "code",
   "execution_count": null,
   "metadata": {},
   "outputs": [],
   "source": [
    "# Model training:\n",
    "\n",
    "clf = OneVsRestClassifier(SVC(1.0, kernel=RBF), 10).fit(np.hstack([sift, hog, means]), Ytr)"
   ]
  },
  {
   "cell_type": "code",
   "execution_count": null,
   "metadata": {},
   "outputs": [],
   "source": [
    "# Test set import:\n",
    "\n",
    "Xte = np.array(pd.read_csv('Xte.csv',header=None,sep=',',usecols=range(3072)))"
   ]
  },
  {
   "cell_type": "code",
   "execution_count": null,
   "metadata": {},
   "outputs": [],
   "source": [
    "# Features extraction:\n",
    "\n",
    "sift = se.extract(Xte.reshape(-1, 32, 32, 3))\n",
    "hog = he.extract(Xte.reshape(-1, 32, 32, 3))\n",
    "means = mie.extract(Xte.reshape(-1, 32, 32, 3))\n"
   ]
  },
  {
   "cell_type": "code",
   "execution_count": null,
   "metadata": {},
   "outputs": [],
   "source": [
    "# Model prediction:\n",
    "\n",
    "Yte = clf.predict(np.hstack([sift, hog, means]))"
   ]
  },
  {
   "cell_type": "code",
   "execution_count": null,
   "metadata": {},
   "outputs": [],
   "source": [
    "# Predictions saving:\n",
    "\n",
    "Yte = {'Prediction' : Yte}\n",
    "dataframe = pd.DataFrame(Yte)\n",
    "dataframe.index += 1\n",
    "dataframe.to_csv('Yte_pred.csv',index_label='Id')"
   ]
  }
 ],
 "metadata": {
  "language_info": {
   "name": "python"
  },
  "orig_nbformat": 4
 },
 "nbformat": 4,
 "nbformat_minor": 2
}
