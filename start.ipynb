{
 "cells": [
  {
   "cell_type": "code",
   "execution_count": null,
   "metadata": {},
   "outputs": [],
   "source": [
    "'''\n",
    "from google.colab import drive\n",
    "drive.mount('/content/drive/')\n",
    "import sys\n",
    "sys.path.append('/content/drive/My Drive/DataChallenge')\n",
    "import os\n",
    "os.chdir('/content/drive/My Drive/DataChallenge')\n",
    "'''"
   ]
  },
  {
   "cell_type": "code",
   "execution_count": 1,
   "metadata": {},
   "outputs": [],
   "source": [
    "# Imports:\n",
    "\n",
    "from SIFTExtractor import *\n",
    "from HOGExtractor import *\n",
    "from Kernel import *\n",
    "from SVC import *\n",
    "from OneVsRestClassifier import *\n",
    "\n",
    "import pandas as pd\n",
    "import numpy as np"
   ]
  },
  {
   "cell_type": "code",
   "execution_count": null,
   "metadata": {},
   "outputs": [],
   "source": [
    "# Train set import:\n",
    "\n",
    "Xtr = np.array(pd.read_csv('Xtr.csv',header=None,sep=',',usecols=range(3072)))\n",
    "Ytr = np.array(pd.read_csv('Ytr.csv',sep=',',usecols=[1])).squeeze()\n",
    "\n",
    "assert 10 == len(np.unique(Ytr))"
   ]
  },
  {
   "cell_type": "code",
   "execution_count": null,
   "metadata": {},
   "outputs": [],
   "source": [
    "# Features extraction:\n",
    "\n",
    "se = SIFTExtractor()\n",
    "he = HOGExtractor()\n",
    "\n",
    "sift = se.extract(Xtr.reshape(-1, 32, 32, 3))\n",
    "hog = he.extract(Xtr.reshape(-1, 32, 32, 3))"
   ]
  },
  {
   "cell_type": "code",
   "execution_count": null,
   "metadata": {},
   "outputs": [],
   "source": [
    "# Kernel defintion:\n",
    "\n",
    "sigma = 15.0\n",
    "def rbf(x, y):\n",
    "    return np.exp(-(np.concatenate((x[:,None],-y[:,None]),axis=1).sum(axis=-1)**2).sum(axis=-1)/(2*sigma**2))\n",
    "RBF = Kernel(metric=rbf, name=\"rbf\")"
   ]
  },
  {
   "cell_type": "code",
   "execution_count": null,
   "metadata": {},
   "outputs": [],
   "source": [
    "# Model training:\n",
    "\n",
    "clf = OneVsRestClassifier(SVC(1.0, kernel=RBF), 10).fit(np.hstack([sift, hog]), Ytr)"
   ]
  },
  {
   "cell_type": "code",
   "execution_count": null,
   "metadata": {},
   "outputs": [],
   "source": [
    "# Test set import:\n",
    "\n",
    "Xte = np.array(pd.read_csv('Xte.csv',header=None,sep=',',usecols=range(3072)))"
   ]
  },
  {
   "cell_type": "code",
   "execution_count": null,
   "metadata": {},
   "outputs": [],
   "source": [
    "# Features extraction:\n",
    "\n",
    "sift = se.extract(Xte.reshape(-1, 32, 32, 3))\n",
    "hog = he.extract(Xte.reshape(-1, 32, 32, 3))"
   ]
  },
  {
   "cell_type": "code",
   "execution_count": null,
   "metadata": {},
   "outputs": [],
   "source": [
    "# Model prediction:\n",
    "\n",
    "Yte = clf.predict(np.hstack([sift, hog]))"
   ]
  },
  {
   "cell_type": "code",
   "execution_count": null,
   "metadata": {},
   "outputs": [],
   "source": [
    "# Predictions saving:\n",
    "\n",
    "Yte = {'Prediction' : Yte}\n",
    "dataframe = pd.DataFrame(Yte)\n",
    "dataframe.index += 1\n",
    "dataframe.to_csv('Yte_pred.csv',index_label='Id')"
   ]
  }
 ],
 "metadata": {
  "interpreter": {
   "hash": "916dbcbb3f70747c44a77c7bcd40155683ae19c65e1c03b4aa3499c5328201f1"
  },
  "kernelspec": {
   "display_name": "Python 3.8.10 64-bit",
   "language": "python",
   "name": "python3"
  },
  "language_info": {
   "codemirror_mode": {
    "name": "ipython",
    "version": 3
   },
   "file_extension": ".py",
   "mimetype": "text/x-python",
   "name": "python",
   "nbconvert_exporter": "python",
   "pygments_lexer": "ipython3",
   "version": "3.8.10"
  },
  "orig_nbformat": 4
 },
 "nbformat": 4,
 "nbformat_minor": 2
}
